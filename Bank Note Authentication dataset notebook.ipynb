{
 "cells": [
  {
   "cell_type": "markdown",
   "id": "4a276e98",
   "metadata": {},
   "source": [
    "# Import libraries and reading dataset"
   ]
  },
  {
   "cell_type": "code",
   "execution_count": 147,
   "id": "d65610f2",
   "metadata": {},
   "outputs": [],
   "source": [
    "import pandas as pd\n",
    "import numpy as np\n",
    "import matplotlib.pyplot as plt\n",
    "import seaborn as sns\n",
    "%matplotlib inline\n",
    "\n",
    "from sklearn.preprocessing import StandardScaler\n",
    "from sklearn.model_selection import train_test_split\n",
    "from sklearn.model_selection import GridSearchCV\n",
    "\n",
    "from sklearn.linear_model import LogisticRegression\n",
    "from sklearn.ensemble import GradientBoostingClassifier\n",
    "from sklearn.ensemble import RandomForestClassifier\n",
    "\n",
    "from sklearn.metrics import confusion_matrix\n",
    "from sklearn.metrics import accuracy_score\n",
    "from sklearn.metrics import f1_score\n",
    "from sklearn.metrics import roc_auc_score\n",
    "\n",
    "from datetime import datetime\n"
   ]
  },
  {
   "cell_type": "code",
   "execution_count": 148,
   "id": "0d74be51",
   "metadata": {},
   "outputs": [
    {
     "data": {
      "text/html": [
       "<div>\n",
       "<style scoped>\n",
       "    .dataframe tbody tr th:only-of-type {\n",
       "        vertical-align: middle;\n",
       "    }\n",
       "\n",
       "    .dataframe tbody tr th {\n",
       "        vertical-align: top;\n",
       "    }\n",
       "\n",
       "    .dataframe thead th {\n",
       "        text-align: right;\n",
       "    }\n",
       "</style>\n",
       "<table border=\"1\" class=\"dataframe\">\n",
       "  <thead>\n",
       "    <tr style=\"text-align: right;\">\n",
       "      <th></th>\n",
       "      <th>Variance_WT_image</th>\n",
       "      <th>Skewness_WT_image</th>\n",
       "      <th>Kurtosis_WT_image</th>\n",
       "      <th>Entropy_image</th>\n",
       "      <th>Class</th>\n",
       "    </tr>\n",
       "  </thead>\n",
       "  <tbody>\n",
       "    <tr>\n",
       "      <th>0</th>\n",
       "      <td>3.6216</td>\n",
       "      <td>8.6661</td>\n",
       "      <td>-2.8073</td>\n",
       "      <td>-0.44699</td>\n",
       "      <td>0</td>\n",
       "    </tr>\n",
       "    <tr>\n",
       "      <th>1</th>\n",
       "      <td>4.5459</td>\n",
       "      <td>8.1674</td>\n",
       "      <td>-2.4586</td>\n",
       "      <td>-1.46210</td>\n",
       "      <td>0</td>\n",
       "    </tr>\n",
       "    <tr>\n",
       "      <th>2</th>\n",
       "      <td>3.8660</td>\n",
       "      <td>-2.6383</td>\n",
       "      <td>1.9242</td>\n",
       "      <td>0.10645</td>\n",
       "      <td>0</td>\n",
       "    </tr>\n",
       "  </tbody>\n",
       "</table>\n",
       "</div>"
      ],
      "text/plain": [
       "   Variance_WT_image  Skewness_WT_image  Kurtosis_WT_image  Entropy_image  \\\n",
       "0             3.6216             8.6661            -2.8073       -0.44699   \n",
       "1             4.5459             8.1674            -2.4586       -1.46210   \n",
       "2             3.8660            -2.6383             1.9242        0.10645   \n",
       "\n",
       "   Class  \n",
       "0      0  \n",
       "1      0  \n",
       "2      0  "
      ]
     },
     "execution_count": 148,
     "metadata": {},
     "output_type": "execute_result"
    }
   ],
   "source": [
    "colnames = ['Variance_WT_image','Skewness_WT_image','Kurtosis_WT_image','Entropy_image','Class']\n",
    "df = pd.read_csv('data_banknote_authentication.csv',names=colnames)\n",
    "df.head(3)"
   ]
  },
  {
   "cell_type": "code",
   "execution_count": 149,
   "id": "624f1658",
   "metadata": {},
   "outputs": [],
   "source": [
    "#Shuffling the datapoints in the dataset\n",
    "df = df.sample(frac=1,random_state=100)"
   ]
  },
  {
   "cell_type": "code",
   "execution_count": 150,
   "id": "06f1f578",
   "metadata": {},
   "outputs": [
    {
     "data": {
      "text/plain": [
       "(1372, 5)"
      ]
     },
     "execution_count": 150,
     "metadata": {},
     "output_type": "execute_result"
    }
   ],
   "source": [
    "df.shape"
   ]
  },
  {
   "cell_type": "code",
   "execution_count": 151,
   "id": "8385a575",
   "metadata": {},
   "outputs": [
    {
     "data": {
      "text/html": [
       "<div>\n",
       "<style scoped>\n",
       "    .dataframe tbody tr th:only-of-type {\n",
       "        vertical-align: middle;\n",
       "    }\n",
       "\n",
       "    .dataframe tbody tr th {\n",
       "        vertical-align: top;\n",
       "    }\n",
       "\n",
       "    .dataframe thead th {\n",
       "        text-align: right;\n",
       "    }\n",
       "</style>\n",
       "<table border=\"1\" class=\"dataframe\">\n",
       "  <thead>\n",
       "    <tr style=\"text-align: right;\">\n",
       "      <th></th>\n",
       "      <th>Variance_WT_image</th>\n",
       "      <th>Skewness_WT_image</th>\n",
       "      <th>Kurtosis_WT_image</th>\n",
       "      <th>Entropy_image</th>\n",
       "      <th>Class</th>\n",
       "    </tr>\n",
       "  </thead>\n",
       "  <tbody>\n",
       "    <tr>\n",
       "      <th>count</th>\n",
       "      <td>1372.000000</td>\n",
       "      <td>1372.000000</td>\n",
       "      <td>1372.000000</td>\n",
       "      <td>1372.000000</td>\n",
       "      <td>1372.000000</td>\n",
       "    </tr>\n",
       "    <tr>\n",
       "      <th>mean</th>\n",
       "      <td>0.433735</td>\n",
       "      <td>1.922353</td>\n",
       "      <td>1.397627</td>\n",
       "      <td>-1.191657</td>\n",
       "      <td>0.444606</td>\n",
       "    </tr>\n",
       "    <tr>\n",
       "      <th>std</th>\n",
       "      <td>2.842763</td>\n",
       "      <td>5.869047</td>\n",
       "      <td>4.310030</td>\n",
       "      <td>2.101013</td>\n",
       "      <td>0.497103</td>\n",
       "    </tr>\n",
       "    <tr>\n",
       "      <th>min</th>\n",
       "      <td>-7.042100</td>\n",
       "      <td>-13.773100</td>\n",
       "      <td>-5.286100</td>\n",
       "      <td>-8.548200</td>\n",
       "      <td>0.000000</td>\n",
       "    </tr>\n",
       "    <tr>\n",
       "      <th>25%</th>\n",
       "      <td>-1.773000</td>\n",
       "      <td>-1.708200</td>\n",
       "      <td>-1.574975</td>\n",
       "      <td>-2.413450</td>\n",
       "      <td>0.000000</td>\n",
       "    </tr>\n",
       "    <tr>\n",
       "      <th>50%</th>\n",
       "      <td>0.496180</td>\n",
       "      <td>2.319650</td>\n",
       "      <td>0.616630</td>\n",
       "      <td>-0.586650</td>\n",
       "      <td>0.000000</td>\n",
       "    </tr>\n",
       "    <tr>\n",
       "      <th>75%</th>\n",
       "      <td>2.821475</td>\n",
       "      <td>6.814625</td>\n",
       "      <td>3.179250</td>\n",
       "      <td>0.394810</td>\n",
       "      <td>1.000000</td>\n",
       "    </tr>\n",
       "    <tr>\n",
       "      <th>max</th>\n",
       "      <td>6.824800</td>\n",
       "      <td>12.951600</td>\n",
       "      <td>17.927400</td>\n",
       "      <td>2.449500</td>\n",
       "      <td>1.000000</td>\n",
       "    </tr>\n",
       "  </tbody>\n",
       "</table>\n",
       "</div>"
      ],
      "text/plain": [
       "       Variance_WT_image  Skewness_WT_image  Kurtosis_WT_image  Entropy_image  \\\n",
       "count        1372.000000        1372.000000        1372.000000    1372.000000   \n",
       "mean            0.433735           1.922353           1.397627      -1.191657   \n",
       "std             2.842763           5.869047           4.310030       2.101013   \n",
       "min            -7.042100         -13.773100          -5.286100      -8.548200   \n",
       "25%            -1.773000          -1.708200          -1.574975      -2.413450   \n",
       "50%             0.496180           2.319650           0.616630      -0.586650   \n",
       "75%             2.821475           6.814625           3.179250       0.394810   \n",
       "max             6.824800          12.951600          17.927400       2.449500   \n",
       "\n",
       "             Class  \n",
       "count  1372.000000  \n",
       "mean      0.444606  \n",
       "std       0.497103  \n",
       "min       0.000000  \n",
       "25%       0.000000  \n",
       "50%       0.000000  \n",
       "75%       1.000000  \n",
       "max       1.000000  "
      ]
     },
     "execution_count": 151,
     "metadata": {},
     "output_type": "execute_result"
    }
   ],
   "source": [
    "df.describe()"
   ]
  },
  {
   "cell_type": "code",
   "execution_count": 152,
   "id": "19615a17",
   "metadata": {},
   "outputs": [],
   "source": [
    "df['Class'] = df['Class'].map({0:'authentic',1:'unauthentic'})"
   ]
  },
  {
   "cell_type": "code",
   "execution_count": 153,
   "id": "9fa1e67a",
   "metadata": {},
   "outputs": [
    {
     "data": {
      "text/html": [
       "<div>\n",
       "<style scoped>\n",
       "    .dataframe tbody tr th:only-of-type {\n",
       "        vertical-align: middle;\n",
       "    }\n",
       "\n",
       "    .dataframe tbody tr th {\n",
       "        vertical-align: top;\n",
       "    }\n",
       "\n",
       "    .dataframe thead th {\n",
       "        text-align: right;\n",
       "    }\n",
       "</style>\n",
       "<table border=\"1\" class=\"dataframe\">\n",
       "  <thead>\n",
       "    <tr style=\"text-align: right;\">\n",
       "      <th></th>\n",
       "      <th>Variance_WT_image</th>\n",
       "      <th>Skewness_WT_image</th>\n",
       "      <th>Kurtosis_WT_image</th>\n",
       "      <th>Entropy_image</th>\n",
       "      <th>Class</th>\n",
       "    </tr>\n",
       "  </thead>\n",
       "  <tbody>\n",
       "    <tr>\n",
       "      <th>1058</th>\n",
       "      <td>-1.5621</td>\n",
       "      <td>-2.2121</td>\n",
       "      <td>4.2591</td>\n",
       "      <td>0.27972</td>\n",
       "      <td>unauthentic</td>\n",
       "    </tr>\n",
       "    <tr>\n",
       "      <th>714</th>\n",
       "      <td>2.5559</td>\n",
       "      <td>3.3605</td>\n",
       "      <td>2.0321</td>\n",
       "      <td>0.26809</td>\n",
       "      <td>authentic</td>\n",
       "    </tr>\n",
       "    <tr>\n",
       "      <th>1061</th>\n",
       "      <td>-2.3147</td>\n",
       "      <td>3.6668</td>\n",
       "      <td>-0.6969</td>\n",
       "      <td>-1.24740</td>\n",
       "      <td>unauthentic</td>\n",
       "    </tr>\n",
       "  </tbody>\n",
       "</table>\n",
       "</div>"
      ],
      "text/plain": [
       "      Variance_WT_image  Skewness_WT_image  Kurtosis_WT_image  Entropy_image  \\\n",
       "1058            -1.5621            -2.2121             4.2591        0.27972   \n",
       "714              2.5559             3.3605             2.0321        0.26809   \n",
       "1061            -2.3147             3.6668            -0.6969       -1.24740   \n",
       "\n",
       "            Class  \n",
       "1058  unauthentic  \n",
       "714     authentic  \n",
       "1061  unauthentic  "
      ]
     },
     "execution_count": 153,
     "metadata": {},
     "output_type": "execute_result"
    }
   ],
   "source": [
    "df.head(3)"
   ]
  },
  {
   "cell_type": "code",
   "execution_count": null,
   "id": "729fbab2",
   "metadata": {},
   "outputs": [],
   "source": []
  },
  {
   "cell_type": "markdown",
   "id": "01697092",
   "metadata": {},
   "source": [
    "# Exploratory Data Analysis"
   ]
  },
  {
   "cell_type": "code",
   "execution_count": 154,
   "id": "bcbee586",
   "metadata": {},
   "outputs": [
    {
     "data": {
      "text/plain": [
       "authentic      762\n",
       "unauthentic    610\n",
       "Name: Class, dtype: int64"
      ]
     },
     "execution_count": 154,
     "metadata": {},
     "output_type": "execute_result"
    }
   ],
   "source": [
    "# Univariate analysis of Target variable and to understand its spread/distribution\n",
    "# Pie chrt indicates class is fairly balanced with ratio of 56:44 in favour of authentic\n",
    "df['Class'].value_counts()"
   ]
  },
  {
   "cell_type": "code",
   "execution_count": 155,
   "id": "655f39aa",
   "metadata": {},
   "outputs": [
    {
     "data": {
      "image/png": "[encoded data removed]",
      "text/plain": [
       "<Figure size 432x288 with 1 Axes>"
      ]
     },
     "metadata": {},
     "output_type": "display_data"
    }
   ],
   "source": [
    "colors = sns.color_palette('pastel')[0:5]\n",
    "plt.pie(df['Class'].value_counts(), labels=['authentic','unauthentic'],colors=colors,autopct='%.0f')\n",
    "plt.show()"
   ]
  },
  {
   "cell_type": "code",
   "execution_count": 156,
   "id": "cfa12574",
   "metadata": {},
   "outputs": [
    {
     "data": {
      "text/plain": [
       "<AxesSubplot:>"
      ]
     },
     "execution_count": 156,
     "metadata": {},
     "output_type": "execute_result"
    },
    {
     "data": {
      "image/png": "[encoded data removed]",
      "text/plain": [
       "<Figure size 432x288 with 2 Axes>"
      ]
     },
     "metadata": {
      "needs_background": "light"
     },
     "output_type": "display_data"
    }
   ],
   "source": [
    "#Checking corelation between independent variables\n",
    "sns.heatmap(df.iloc[:,0:4].corr(),annot=True)"
   ]
  },
  {
   "cell_type": "code",
   "execution_count": 157,
   "id": "6375fe7b",
   "metadata": {},
   "outputs": [
    {
     "data": {
      "text/plain": [
       "<AxesSubplot:ylabel='Entropy_image'>"
      ]
     },
     "execution_count": 157,
     "metadata": {},
     "output_type": "execute_result"
    },
    {
     "data": {
      "image/png": "[encoded data removed]",
      "text/plain": [
       "<Figure size 1008x720 with 4 Axes>"
      ]
     },
     "metadata": {
      "needs_background": "light"
     },
     "output_type": "display_data"
    }
   ],
   "source": [
    "#Creating a subplot to create boxplot for each independent variable to understand variable distribution\n",
    "fig, ax = plt.subplots(2, 2, figsize=(14,10))\n",
    "\n",
    "sns.boxplot(data=df,y='Variance_WT_image',ax=ax[0][0])\n",
    "sns.boxplot(data=df,y='Skewness_WT_image',ax=ax[0][1])\n",
    "sns.boxplot(data=df,y='Kurtosis_WT_image',ax=ax[1][0])\n",
    "sns.boxplot(data=df,y='Entropy_image',ax=ax[1][1])"
   ]
  },
  {
   "cell_type": "code",
   "execution_count": 158,
   "id": "62d2fcb3",
   "metadata": {},
   "outputs": [],
   "source": [
    "#sample = df.head(100)\n",
    "#sns.catplot(data=sample,x=\"Variance_WT_image\",y=\"Skewness_WT_image\",hue=\"Class\")"
   ]
  },
  {
   "cell_type": "markdown",
   "id": "acb47340",
   "metadata": {},
   "source": [
    "# Splitting original dataset into Train set & Test set"
   ]
  },
  {
   "cell_type": "code",
   "execution_count": 159,
   "id": "7765cccd",
   "metadata": {},
   "outputs": [
    {
     "data": {
      "text/plain": [
       "((960, 5), (412, 5))"
      ]
     },
     "execution_count": 159,
     "metadata": {},
     "output_type": "execute_result"
    }
   ],
   "source": [
    "\n",
    "train_df, test_df = train_test_split(df, train_size=0.7,random_state=100)\n",
    "train_df.shape, test_df.shape"
   ]
  },
  {
   "cell_type": "code",
   "execution_count": 160,
   "id": "893965b4",
   "metadata": {},
   "outputs": [
    {
     "data": {
      "text/plain": [
       "((960, 4), (960,))"
      ]
     },
     "execution_count": 160,
     "metadata": {},
     "output_type": "execute_result"
    }
   ],
   "source": [
    "y = train_df.pop('Class')\n",
    "X = train_df\n",
    "X.shape, y.shape"
   ]
  },
  {
   "cell_type": "code",
   "execution_count": 161,
   "id": "0870ef18",
   "metadata": {},
   "outputs": [
    {
     "data": {
      "text/plain": [
       "((672, 4), (672,), (288, 4), (288,))"
      ]
     },
     "execution_count": 161,
     "metadata": {},
     "output_type": "execute_result"
    }
   ],
   "source": [
    "#Splitting above created train set into Train set & validation set\n",
    "X_train, X_val, y_train, y_val = train_test_split(X,y, train_size=0.7, random_state=100)\n",
    "X_train.shape, y_train.shape, X_val.shape, y_val.shape"
   ]
  },
  {
   "cell_type": "code",
   "execution_count": 162,
   "id": "de5fefe3",
   "metadata": {},
   "outputs": [
    {
     "data": {
      "text/html": [
       "<div>\n",
       "<style scoped>\n",
       "    .dataframe tbody tr th:only-of-type {\n",
       "        vertical-align: middle;\n",
       "    }\n",
       "\n",
       "    .dataframe tbody tr th {\n",
       "        vertical-align: top;\n",
       "    }\n",
       "\n",
       "    .dataframe thead th {\n",
       "        text-align: right;\n",
       "    }\n",
       "</style>\n",
       "<table border=\"1\" class=\"dataframe\">\n",
       "  <thead>\n",
       "    <tr style=\"text-align: right;\">\n",
       "      <th></th>\n",
       "      <th>Variance_WT_image</th>\n",
       "      <th>Skewness_WT_image</th>\n",
       "      <th>Kurtosis_WT_image</th>\n",
       "      <th>Entropy_image</th>\n",
       "    </tr>\n",
       "  </thead>\n",
       "  <tbody>\n",
       "    <tr>\n",
       "      <th>553</th>\n",
       "      <td>3.0672</td>\n",
       "      <td>-4.4117</td>\n",
       "      <td>3.8238</td>\n",
       "      <td>-0.81682</td>\n",
       "    </tr>\n",
       "    <tr>\n",
       "      <th>241</th>\n",
       "      <td>-1.3931</td>\n",
       "      <td>1.5664</td>\n",
       "      <td>7.5382</td>\n",
       "      <td>0.78403</td>\n",
       "    </tr>\n",
       "  </tbody>\n",
       "</table>\n",
       "</div>"
      ],
      "text/plain": [
       "     Variance_WT_image  Skewness_WT_image  Kurtosis_WT_image  Entropy_image\n",
       "553             3.0672            -4.4117             3.8238       -0.81682\n",
       "241            -1.3931             1.5664             7.5382        0.78403"
      ]
     },
     "execution_count": 162,
     "metadata": {},
     "output_type": "execute_result"
    }
   ],
   "source": [
    "X_train.head(2)"
   ]
  },
  {
   "cell_type": "code",
   "execution_count": 163,
   "id": "5ccb447f",
   "metadata": {},
   "outputs": [
    {
     "data": {
      "text/html": [
       "<div>\n",
       "<style scoped>\n",
       "    .dataframe tbody tr th:only-of-type {\n",
       "        vertical-align: middle;\n",
       "    }\n",
       "\n",
       "    .dataframe tbody tr th {\n",
       "        vertical-align: top;\n",
       "    }\n",
       "\n",
       "    .dataframe thead th {\n",
       "        text-align: right;\n",
       "    }\n",
       "</style>\n",
       "<table border=\"1\" class=\"dataframe\">\n",
       "  <thead>\n",
       "    <tr style=\"text-align: right;\">\n",
       "      <th></th>\n",
       "      <th>Variance_WT_image</th>\n",
       "      <th>Skewness_WT_image</th>\n",
       "      <th>Kurtosis_WT_image</th>\n",
       "      <th>Entropy_image</th>\n",
       "    </tr>\n",
       "  </thead>\n",
       "  <tbody>\n",
       "    <tr>\n",
       "      <th>462</th>\n",
       "      <td>4.9362</td>\n",
       "      <td>7.6046</td>\n",
       "      <td>-2.3429</td>\n",
       "      <td>-0.85302</td>\n",
       "    </tr>\n",
       "    <tr>\n",
       "      <th>492</th>\n",
       "      <td>-1.8411</td>\n",
       "      <td>10.8306</td>\n",
       "      <td>2.7690</td>\n",
       "      <td>-3.09010</td>\n",
       "    </tr>\n",
       "  </tbody>\n",
       "</table>\n",
       "</div>"
      ],
      "text/plain": [
       "     Variance_WT_image  Skewness_WT_image  Kurtosis_WT_image  Entropy_image\n",
       "462             4.9362             7.6046            -2.3429       -0.85302\n",
       "492            -1.8411            10.8306             2.7690       -3.09010"
      ]
     },
     "execution_count": 163,
     "metadata": {},
     "output_type": "execute_result"
    }
   ],
   "source": [
    "X_val.head(2)"
   ]
  },
  {
   "cell_type": "markdown",
   "id": "a4f2633d",
   "metadata": {},
   "source": [
    "# Standard Scaling of Training set"
   ]
  },
  {
   "cell_type": "code",
   "execution_count": 164,
   "id": "6b090366",
   "metadata": {},
   "outputs": [],
   "source": [
    "scaler = StandardScaler()"
   ]
  },
  {
   "cell_type": "code",
   "execution_count": 165,
   "id": "89a59979",
   "metadata": {},
   "outputs": [],
   "source": [
    "X_train_scaled = scaler.fit_transform(X_train)"
   ]
  },
  {
   "cell_type": "code",
   "execution_count": 166,
   "id": "4194594b",
   "metadata": {},
   "outputs": [
    {
     "data": {
      "text/html": [
       "<div>\n",
       "<style scoped>\n",
       "    .dataframe tbody tr th:only-of-type {\n",
       "        vertical-align: middle;\n",
       "    }\n",
       "\n",
       "    .dataframe tbody tr th {\n",
       "        vertical-align: top;\n",
       "    }\n",
       "\n",
       "    .dataframe thead th {\n",
       "        text-align: right;\n",
       "    }\n",
       "</style>\n",
       "<table border=\"1\" class=\"dataframe\">\n",
       "  <thead>\n",
       "    <tr style=\"text-align: right;\">\n",
       "      <th></th>\n",
       "      <th>Variance_WT_image</th>\n",
       "      <th>Skewness_WT_image</th>\n",
       "      <th>Kurtosis_WT_image</th>\n",
       "      <th>Entropy_image</th>\n",
       "    </tr>\n",
       "  </thead>\n",
       "  <tbody>\n",
       "    <tr>\n",
       "      <th>553</th>\n",
       "      <td>0.958379</td>\n",
       "      <td>-1.070030</td>\n",
       "      <td>0.531624</td>\n",
       "      <td>0.205560</td>\n",
       "    </tr>\n",
       "    <tr>\n",
       "      <th>241</th>\n",
       "      <td>-0.601453</td>\n",
       "      <td>-0.055758</td>\n",
       "      <td>1.372833</td>\n",
       "      <td>0.946415</td>\n",
       "    </tr>\n",
       "  </tbody>\n",
       "</table>\n",
       "</div>"
      ],
      "text/plain": [
       "     Variance_WT_image  Skewness_WT_image  Kurtosis_WT_image  Entropy_image\n",
       "553           0.958379          -1.070030           0.531624       0.205560\n",
       "241          -0.601453          -0.055758           1.372833       0.946415"
      ]
     },
     "execution_count": 166,
     "metadata": {},
     "output_type": "execute_result"
    }
   ],
   "source": [
    "X_train_scaled = pd.DataFrame(X_train_scaled, index=X_train.index ,columns=X_train.columns)\n",
    "X_train_scaled.head(2)"
   ]
  },
  {
   "cell_type": "code",
   "execution_count": 167,
   "id": "4c434732",
   "metadata": {},
   "outputs": [
    {
     "data": {
      "text/plain": [
       "553    0\n",
       "241    0\n",
       "Name: Class, dtype: int64"
      ]
     },
     "execution_count": 167,
     "metadata": {},
     "output_type": "execute_result"
    }
   ],
   "source": [
    "y_train = y_train.map({'authentic':0,'unauthentic':1})\n",
    "y_train.head(2)"
   ]
  },
  {
   "cell_type": "markdown",
   "id": "1a690fcc",
   "metadata": {},
   "source": [
    "# Standard Scaling of Validation set"
   ]
  },
  {
   "cell_type": "code",
   "execution_count": 168,
   "id": "25830cdc",
   "metadata": {},
   "outputs": [],
   "source": [
    "X_val_scaled =  scaler.transform(X_val)"
   ]
  },
  {
   "cell_type": "code",
   "execution_count": 169,
   "id": "99e81c46",
   "metadata": {},
   "outputs": [
    {
     "data": {
      "text/html": [
       "<div>\n",
       "<style scoped>\n",
       "    .dataframe tbody tr th:only-of-type {\n",
       "        vertical-align: middle;\n",
       "    }\n",
       "\n",
       "    .dataframe tbody tr th {\n",
       "        vertical-align: top;\n",
       "    }\n",
       "\n",
       "    .dataframe thead th {\n",
       "        text-align: right;\n",
       "    }\n",
       "</style>\n",
       "<table border=\"1\" class=\"dataframe\">\n",
       "  <thead>\n",
       "    <tr style=\"text-align: right;\">\n",
       "      <th></th>\n",
       "      <th>Variance_WT_image</th>\n",
       "      <th>Skewness_WT_image</th>\n",
       "      <th>Kurtosis_WT_image</th>\n",
       "      <th>Entropy_image</th>\n",
       "    </tr>\n",
       "  </thead>\n",
       "  <tbody>\n",
       "    <tr>\n",
       "      <th>462</th>\n",
       "      <td>1.611995</td>\n",
       "      <td>0.968710</td>\n",
       "      <td>-0.864962</td>\n",
       "      <td>0.188807</td>\n",
       "    </tr>\n",
       "    <tr>\n",
       "      <th>492</th>\n",
       "      <td>-0.758125</td>\n",
       "      <td>1.516048</td>\n",
       "      <td>0.292741</td>\n",
       "      <td>-0.846489</td>\n",
       "    </tr>\n",
       "  </tbody>\n",
       "</table>\n",
       "</div>"
      ],
      "text/plain": [
       "     Variance_WT_image  Skewness_WT_image  Kurtosis_WT_image  Entropy_image\n",
       "462           1.611995           0.968710          -0.864962       0.188807\n",
       "492          -0.758125           1.516048           0.292741      -0.846489"
      ]
     },
     "execution_count": 169,
     "metadata": {},
     "output_type": "execute_result"
    }
   ],
   "source": [
    "X_val_scaled = pd.DataFrame(X_val_scaled, index=X_val.index ,columns=X_val.columns)\n",
    "X_val_scaled.head(2)"
   ]
  },
  {
   "cell_type": "code",
   "execution_count": 170,
   "id": "2f6a2667",
   "metadata": {},
   "outputs": [
    {
     "data": {
      "text/plain": [
       "462    0\n",
       "492    0\n",
       "Name: Class, dtype: int64"
      ]
     },
     "execution_count": 170,
     "metadata": {},
     "output_type": "execute_result"
    }
   ],
   "source": [
    "y_val = y_val.map({'authentic':0,'unauthentic':1})\n",
    "y_val.head(2)"
   ]
  },
  {
   "cell_type": "markdown",
   "id": "3ee5443d",
   "metadata": {},
   "source": [
    "# Builing Logistic Regression Model"
   ]
  },
  {
   "cell_type": "code",
   "execution_count": 171,
   "id": "32c4389a",
   "metadata": {},
   "outputs": [
    {
     "data": {
      "text/plain": [
       "LogisticRegression()"
      ]
     },
     "execution_count": 171,
     "metadata": {},
     "output_type": "execute_result"
    }
   ],
   "source": [
    "logreg = LogisticRegression()\n",
    "logreg.fit(X_train_scaled, y_train)"
   ]
  },
  {
   "cell_type": "markdown",
   "id": "b7c0ce8c",
   "metadata": {},
   "source": [
    "## Prediciting on Train data itself"
   ]
  },
  {
   "cell_type": "code",
   "execution_count": 172,
   "id": "52a9e34b",
   "metadata": {},
   "outputs": [
    {
     "data": {
      "text/plain": [
       "array([0, 0, 0, 0, 0])"
      ]
     },
     "execution_count": 172,
     "metadata": {},
     "output_type": "execute_result"
    }
   ],
   "source": [
    "logistic_regression_train_pred = logreg.predict(X_train_scaled)\n",
    "logistic_regression_train_pred[:5]"
   ]
  },
  {
   "cell_type": "code",
   "execution_count": 173,
   "id": "272a28d4",
   "metadata": {},
   "outputs": [
    {
     "data": {
      "text/plain": [
       "array([[355,  11],\n",
       "       [  2, 304]])"
      ]
     },
     "execution_count": 173,
     "metadata": {},
     "output_type": "execute_result"
    }
   ],
   "source": [
    "confusion_matrix(y_true=y_train, y_pred=logistic_regression_train_pred)"
   ]
  },
  {
   "cell_type": "code",
   "execution_count": 174,
   "id": "a3fbb886",
   "metadata": {},
   "outputs": [],
   "source": [
    "tn,fp,fn,tp = confusion_matrix(y_true=y_train, y_pred=logistic_regression_train_pred).ravel()\n",
    "logistic_regression_train_sensitivity = tp / (tp+fn)\n",
    "logistic_regression_train_specificity = tn / (tn+fp)\n",
    "logistic_regression_train_precision = tp / (tp+fp)\n",
    "logistic_regression_train_recall = tp / (tp+fn)"
   ]
  },
  {
   "cell_type": "code",
   "execution_count": 175,
   "id": "656c691e",
   "metadata": {},
   "outputs": [
    {
     "data": {
      "text/plain": [
       "0.9806547619047619"
      ]
     },
     "execution_count": 175,
     "metadata": {},
     "output_type": "execute_result"
    }
   ],
   "source": [
    "logistic_regression_train_accuracy = accuracy_score(y_true=y_train, y_pred=logistic_regression_train_pred)\n",
    "logistic_regression_train_accuracy"
   ]
  },
  {
   "cell_type": "code",
   "execution_count": 176,
   "id": "8a815751",
   "metadata": {},
   "outputs": [
    {
     "data": {
      "text/plain": [
       "0.9817047037394192"
      ]
     },
     "execution_count": 176,
     "metadata": {},
     "output_type": "execute_result"
    }
   ],
   "source": [
    "logistic_regression_train_roc = roc_auc_score(y_true=y_train,y_score=logistic_regression_train_pred)\n",
    "logistic_regression_train_roc"
   ]
  },
  {
   "cell_type": "code",
   "execution_count": 177,
   "id": "5d2f1dc1",
   "metadata": {},
   "outputs": [
    {
     "data": {
      "text/plain": [
       "0.9790660225442833"
      ]
     },
     "execution_count": 177,
     "metadata": {},
     "output_type": "execute_result"
    }
   ],
   "source": [
    "logistic_regression_train_f1 = f1_score(y_true=y_train, y_pred=logistic_regression_train_pred)\n",
    "logistic_regression_train_f1"
   ]
  },
  {
   "cell_type": "markdown",
   "id": "278b4f0b",
   "metadata": {},
   "source": [
    "## Prediciting on Validation data "
   ]
  },
  {
   "cell_type": "code",
   "execution_count": 178,
   "id": "d443043a",
   "metadata": {},
   "outputs": [
    {
     "data": {
      "text/plain": [
       "array([0, 0, 0, 0, 0])"
      ]
     },
     "execution_count": 178,
     "metadata": {},
     "output_type": "execute_result"
    }
   ],
   "source": [
    "logistic_regression_val_pred = logreg.predict(X_val_scaled)\n",
    "logistic_regression_val_pred[:5]"
   ]
  },
  {
   "cell_type": "code",
   "execution_count": 179,
   "id": "68909327",
   "metadata": {},
   "outputs": [
    {
     "data": {
      "text/plain": [
       "array([[168,   4],\n",
       "       [  0, 116]])"
      ]
     },
     "execution_count": 179,
     "metadata": {},
     "output_type": "execute_result"
    }
   ],
   "source": [
    "confusion_matrix(y_true=y_val, y_pred=logistic_regression_val_pred)"
   ]
  },
  {
   "cell_type": "code",
   "execution_count": 180,
   "id": "9a3440e8",
   "metadata": {},
   "outputs": [],
   "source": [
    "tn,fp,fn,tp = confusion_matrix(y_true=y_val, y_pred=logistic_regression_val_pred).ravel()\n",
    "logistic_regression_val_sensitivity = tp / (tp+fn)\n",
    "logistic_regression_val_specificity = tn / (tn+fp)\n",
    "logistic_regression_val_precision = tp / (tp+fp)\n",
    "logistic_regression_val_recall = tp / (tp+fn)"
   ]
  },
  {
   "cell_type": "code",
   "execution_count": 181,
   "id": "55e19b33",
   "metadata": {},
   "outputs": [
    {
     "data": {
      "text/plain": [
       "0.9861111111111112"
      ]
     },
     "execution_count": 181,
     "metadata": {},
     "output_type": "execute_result"
    }
   ],
   "source": [
    "logistic_regression_val_accuracy = accuracy_score(y_true=y_val, y_pred=logistic_regression_val_pred)\n",
    "logistic_regression_val_accuracy"
   ]
  },
  {
   "cell_type": "code",
   "execution_count": 182,
   "id": "1f7be1e4",
   "metadata": {},
   "outputs": [
    {
     "data": {
      "text/plain": [
       "0.9883720930232558"
      ]
     },
     "execution_count": 182,
     "metadata": {},
     "output_type": "execute_result"
    }
   ],
   "source": [
    "logistic_regression_val_roc = roc_auc_score(y_true=y_val,y_score=logistic_regression_val_pred)\n",
    "logistic_regression_val_roc"
   ]
  },
  {
   "cell_type": "code",
   "execution_count": 183,
   "id": "fcdadee4",
   "metadata": {},
   "outputs": [
    {
     "data": {
      "text/plain": [
       "0.983050847457627"
      ]
     },
     "execution_count": 183,
     "metadata": {},
     "output_type": "execute_result"
    }
   ],
   "source": [
    "logistic_regression_val_f1 = f1_score(y_true=y_val, y_pred=logistic_regression_val_pred)\n",
    "logistic_regression_val_f1"
   ]
  },
  {
   "cell_type": "markdown",
   "id": "6f05da21",
   "metadata": {},
   "source": [
    "# Builing Random Forest Classifier"
   ]
  },
  {
   "cell_type": "code",
   "execution_count": 184,
   "id": "326cd101",
   "metadata": {},
   "outputs": [],
   "source": [
    "rfc = RandomForestClassifier(random_state=100)"
   ]
  },
  {
   "cell_type": "code",
   "execution_count": 185,
   "id": "390358c3",
   "metadata": {},
   "outputs": [],
   "source": [
    "rfc_params={\n",
    "    'n_estimators':[100,150],\n",
    "    'min_samples_split':[2,5,10,20],\n",
    "    'min_samples_leaf':[1,2,5,10,15],\n",
    "    'max_leaf_nodes':[5,10,20,40,100],\n",
    "    'max_depth':[3,5,7,10],\n",
    "    'oob_score':['True']\n",
    "}"
   ]
  },
  {
   "cell_type": "code",
   "execution_count": 186,
   "id": "8e2c3211",
   "metadata": {},
   "outputs": [],
   "source": [
    "#Need to maximise Precision i.e. reduce False negative (Idenitifying unauthentic note as authentic)\n",
    "#Hyperparameter tuning on Random Forest Classifier\n",
    "grid = GridSearchCV(\n",
    "    param_grid=rfc_params,\n",
    "    estimator=rfc,\n",
    "    scoring='precision',\n",
    "    n_jobs=-1,\n",
    "    cv=5,\n",
    "    verbose=10\n",
    ")"
   ]
  },
  {
   "cell_type": "code",
   "execution_count": 187,
   "id": "23c4b78a",
   "metadata": {},
   "outputs": [],
   "source": [
    "#print(datetime.now())\n",
    "#grid.fit(X_train_scaled, y_train)\n",
    "#print(datetime.now())"
   ]
  },
  {
   "cell_type": "code",
   "execution_count": 188,
   "id": "7fa13cac",
   "metadata": {},
   "outputs": [],
   "source": [
    "#?grid"
   ]
  },
  {
   "cell_type": "code",
   "execution_count": 189,
   "id": "3d641374",
   "metadata": {},
   "outputs": [],
   "source": [
    "#grid.best_params_"
   ]
  },
  {
   "cell_type": "code",
   "execution_count": 190,
   "id": "7332c7fa",
   "metadata": {},
   "outputs": [],
   "source": [
    "#grid.best_estimator_\n",
    "# RandomForestClassifier(max_depth=10, max_leaf_nodes=40, n_estimators=150, oob_score='True', random_state=100)"
   ]
  },
  {
   "cell_type": "code",
   "execution_count": 191,
   "id": "831b8112",
   "metadata": {},
   "outputs": [],
   "source": [
    "#grid.best_score_"
   ]
  },
  {
   "cell_type": "code",
   "execution_count": 192,
   "id": "0b748f2b",
   "metadata": {},
   "outputs": [],
   "source": [
    "rfc_hyper = RandomForestClassifier(max_depth=5, max_leaf_nodes=40, n_estimators=500,\n",
    "                       oob_score='True', random_state=100)"
   ]
  },
  {
   "cell_type": "code",
   "execution_count": 193,
   "id": "d370d72e",
   "metadata": {},
   "outputs": [
    {
     "data": {
      "text/plain": [
       "RandomForestClassifier(max_depth=5, max_leaf_nodes=40, n_estimators=500,\n",
       "                       oob_score='True', random_state=100)"
      ]
     },
     "execution_count": 193,
     "metadata": {},
     "output_type": "execute_result"
    }
   ],
   "source": [
    "rfc_hyper.fit(X_train_scaled,y_train)"
   ]
  },
  {
   "cell_type": "markdown",
   "id": "e3008ffb",
   "metadata": {},
   "source": [
    "## Prediciting on Train data itself"
   ]
  },
  {
   "cell_type": "code",
   "execution_count": 194,
   "id": "f63d84b8",
   "metadata": {},
   "outputs": [
    {
     "data": {
      "text/plain": [
       "array([0, 0, 0, 0, 0])"
      ]
     },
     "execution_count": 194,
     "metadata": {},
     "output_type": "execute_result"
    }
   ],
   "source": [
    "randomforest_train_pred = rfc_hyper.predict(X_train_scaled)\n",
    "randomforest_train_pred[:5]"
   ]
  },
  {
   "cell_type": "code",
   "execution_count": 195,
   "id": "0fda301c",
   "metadata": {},
   "outputs": [
    {
     "data": {
      "text/plain": [
       "array([[360,   6],\n",
       "       [  0, 306]])"
      ]
     },
     "execution_count": 195,
     "metadata": {},
     "output_type": "execute_result"
    }
   ],
   "source": [
    "confusion_matrix(y_true=y_train, y_pred=randomforest_train_pred)"
   ]
  },
  {
   "cell_type": "code",
   "execution_count": 196,
   "id": "1d665d51",
   "metadata": {},
   "outputs": [],
   "source": [
    "tn,fp,fn,tp = confusion_matrix(y_true=y_train, y_pred=randomforest_train_pred).ravel()\n",
    "randomforest_train_sensitivity = tp / (tp+fn)\n",
    "randomforest_train_specificity = tn / (tn+fp)\n",
    "randomforest_train_precision = tp / (tp+fp)\n",
    "randomforest_train_recall = tp / (tp+fn)"
   ]
  },
  {
   "cell_type": "code",
   "execution_count": 197,
   "id": "95375590",
   "metadata": {},
   "outputs": [
    {
     "data": {
      "text/plain": [
       "0.9918032786885246"
      ]
     },
     "execution_count": 197,
     "metadata": {},
     "output_type": "execute_result"
    }
   ],
   "source": [
    "randomforest_train_roc = roc_auc_score(y_true=y_train,y_score=randomforest_train_pred)\n",
    "randomforest_train_roc"
   ]
  },
  {
   "cell_type": "code",
   "execution_count": 198,
   "id": "f90430c9",
   "metadata": {},
   "outputs": [
    {
     "data": {
      "text/plain": [
       "0.9902912621359222"
      ]
     },
     "execution_count": 198,
     "metadata": {},
     "output_type": "execute_result"
    }
   ],
   "source": [
    "randomforest_train_f1 = f1_score(y_true=y_train, y_pred=randomforest_train_pred)\n",
    "randomforest_train_f1"
   ]
  },
  {
   "cell_type": "code",
   "execution_count": 199,
   "id": "69c876d0",
   "metadata": {},
   "outputs": [
    {
     "data": {
      "text/plain": [
       "0.9910714285714286"
      ]
     },
     "execution_count": 199,
     "metadata": {},
     "output_type": "execute_result"
    }
   ],
   "source": [
    "randomforest_train_accuracy = accuracy_score(y_true=y_train, y_pred=randomforest_train_pred)\n",
    "randomforest_train_accuracy"
   ]
  },
  {
   "cell_type": "markdown",
   "id": "5f733b4f",
   "metadata": {},
   "source": [
    "## Prediciting on Validation data "
   ]
  },
  {
   "cell_type": "code",
   "execution_count": 200,
   "id": "70cb41ac",
   "metadata": {},
   "outputs": [
    {
     "data": {
      "text/plain": [
       "array([0, 0, 0, 0, 0])"
      ]
     },
     "execution_count": 200,
     "metadata": {},
     "output_type": "execute_result"
    }
   ],
   "source": [
    "randomforest_val_pred = rfc_hyper.predict(X_val_scaled)\n",
    "randomforest_val_pred[:5]"
   ]
  },
  {
   "cell_type": "code",
   "execution_count": 201,
   "id": "08d6b7b2",
   "metadata": {},
   "outputs": [
    {
     "data": {
      "text/plain": [
       "array([[168,   4],\n",
       "       [  0, 116]])"
      ]
     },
     "execution_count": 201,
     "metadata": {},
     "output_type": "execute_result"
    }
   ],
   "source": [
    "confusion_matrix(y_true=y_val, y_pred=randomforest_val_pred)"
   ]
  },
  {
   "cell_type": "code",
   "execution_count": 202,
   "id": "2971f755",
   "metadata": {},
   "outputs": [],
   "source": [
    "tn,fp,fn,tp = confusion_matrix(y_true=y_val, y_pred=randomforest_val_pred).ravel()\n",
    "randomforest_val_sensitivity = tp / (tp+fn)\n",
    "randomforest_val_specificity = tn / (tn+fp)\n",
    "randomforest_val_precision = tp / (tp+fp)\n",
    "randomforest_val_recall = tp / (tp+fn)"
   ]
  },
  {
   "cell_type": "code",
   "execution_count": 203,
   "id": "7f0af022",
   "metadata": {},
   "outputs": [
    {
     "data": {
      "text/plain": [
       "0.9883720930232558"
      ]
     },
     "execution_count": 203,
     "metadata": {},
     "output_type": "execute_result"
    }
   ],
   "source": [
    "randomforest_val_roc = roc_auc_score(y_true=y_val,y_score=randomforest_val_pred)\n",
    "randomforest_val_roc"
   ]
  },
  {
   "cell_type": "code",
   "execution_count": 204,
   "id": "40ac5d18",
   "metadata": {},
   "outputs": [
    {
     "data": {
      "text/plain": [
       "0.983050847457627"
      ]
     },
     "execution_count": 204,
     "metadata": {},
     "output_type": "execute_result"
    }
   ],
   "source": [
    "randomforest_val_f1 = f1_score(y_true=y_val, y_pred=randomforest_val_pred)\n",
    "randomforest_val_f1"
   ]
  },
  {
   "cell_type": "code",
   "execution_count": 205,
   "id": "4f77ac4f",
   "metadata": {},
   "outputs": [
    {
     "data": {
      "text/plain": [
       "0.9861111111111112"
      ]
     },
     "execution_count": 205,
     "metadata": {},
     "output_type": "execute_result"
    }
   ],
   "source": [
    "randomforest_val_accuracy = accuracy_score(y_true=y_val, y_pred=randomforest_val_pred)\n",
    "randomforest_val_accuracy"
   ]
  },
  {
   "cell_type": "markdown",
   "id": "415bdd2e",
   "metadata": {},
   "source": [
    "# Model comparison"
   ]
  },
  {
   "cell_type": "code",
   "execution_count": 206,
   "id": "ebaf832b",
   "metadata": {},
   "outputs": [],
   "source": [
    "model_comparison_df = pd.DataFrame(data={'Model_name':['Logistic Regression', 'Basic Random Forest'],\n",
    "            'Training accuracy':[logistic_regression_train_accuracy,randomforest_train_accuracy],\n",
    "            'Validation accuracy':[logistic_regression_val_accuracy,randomforest_val_accuracy],\n",
    "            'Training Sensitivity':[logistic_regression_train_sensitivity,randomforest_train_sensitivity],\n",
    "            'Validation Sensitivity':[logistic_regression_val_sensitivity,randomforest_val_sensitivity],\n",
    "            'Training Specificity':[logistic_regression_train_specificity,randomforest_train_specificity],\n",
    "            'Validation Specificity':[logistic_regression_val_specificity,randomforest_val_specificity],\n",
    "            'Training Precision':[logistic_regression_train_precision,randomforest_train_precision],\n",
    "            'Validation Precision':[logistic_regression_val_precision,randomforest_val_precision],\n",
    "            'Training Recall':[logistic_regression_train_recall,randomforest_train_recall],\n",
    "            'Validation Recall':[logistic_regression_val_recall,randomforest_val_recall],\n",
    "            'Training ROC score':[logistic_regression_train_roc,randomforest_train_roc],\n",
    "            'Validation ROC score':[logistic_regression_val_roc,randomforest_val_roc],\n",
    "            'Training F1 score':[logistic_regression_train_f1,randomforest_train_f1],\n",
    "            'Validation F1 score':[logistic_regression_val_f1,randomforest_val_f1],\n",
    "            })"
   ]
  },
  {
   "cell_type": "code",
   "execution_count": 207,
   "id": "ced478eb",
   "metadata": {},
   "outputs": [
    {
     "data": {
      "text/html": [
       "<div>\n",
       "<style scoped>\n",
       "    .dataframe tbody tr th:only-of-type {\n",
       "        vertical-align: middle;\n",
       "    }\n",
       "\n",
       "    .dataframe tbody tr th {\n",
       "        vertical-align: top;\n",
       "    }\n",
       "\n",
       "    .dataframe thead th {\n",
       "        text-align: right;\n",
       "    }\n",
       "</style>\n",
       "<table border=\"1\" class=\"dataframe\">\n",
       "  <thead>\n",
       "    <tr style=\"text-align: right;\">\n",
       "      <th></th>\n",
       "      <th>Model_name</th>\n",
       "      <th>Training accuracy</th>\n",
       "      <th>Validation accuracy</th>\n",
       "      <th>Training Sensitivity</th>\n",
       "      <th>Validation Sensitivity</th>\n",
       "      <th>Training Specificity</th>\n",
       "      <th>Validation Specificity</th>\n",
       "      <th>Training Precision</th>\n",
       "      <th>Validation Precision</th>\n",
       "      <th>Training Recall</th>\n",
       "      <th>Validation Recall</th>\n",
       "      <th>Training ROC score</th>\n",
       "      <th>Validation ROC score</th>\n",
       "      <th>Training F1 score</th>\n",
       "      <th>Validation F1 score</th>\n",
       "    </tr>\n",
       "  </thead>\n",
       "  <tbody>\n",
       "    <tr>\n",
       "      <th>0</th>\n",
       "      <td>Logistic Regression</td>\n",
       "      <td>0.980655</td>\n",
       "      <td>0.986111</td>\n",
       "      <td>0.993464</td>\n",
       "      <td>1.0</td>\n",
       "      <td>0.969945</td>\n",
       "      <td>0.976744</td>\n",
       "      <td>0.965079</td>\n",
       "      <td>0.966667</td>\n",
       "      <td>0.993464</td>\n",
       "      <td>1.0</td>\n",
       "      <td>0.981705</td>\n",
       "      <td>0.988372</td>\n",
       "      <td>0.979066</td>\n",
       "      <td>0.983051</td>\n",
       "    </tr>\n",
       "    <tr>\n",
       "      <th>1</th>\n",
       "      <td>Basic Random Forest</td>\n",
       "      <td>0.991071</td>\n",
       "      <td>0.986111</td>\n",
       "      <td>1.000000</td>\n",
       "      <td>1.0</td>\n",
       "      <td>0.983607</td>\n",
       "      <td>0.976744</td>\n",
       "      <td>0.980769</td>\n",
       "      <td>0.966667</td>\n",
       "      <td>1.000000</td>\n",
       "      <td>1.0</td>\n",
       "      <td>0.991803</td>\n",
       "      <td>0.988372</td>\n",
       "      <td>0.990291</td>\n",
       "      <td>0.983051</td>\n",
       "    </tr>\n",
       "  </tbody>\n",
       "</table>\n",
       "</div>"
      ],
      "text/plain": [
       "            Model_name  Training accuracy  Validation accuracy  \\\n",
       "0  Logistic Regression           0.980655             0.986111   \n",
       "1  Basic Random Forest           0.991071             0.986111   \n",
       "\n",
       "   Training Sensitivity  Validation Sensitivity  Training Specificity  \\\n",
       "0              0.993464                     1.0              0.969945   \n",
       "1              1.000000                     1.0              0.983607   \n",
       "\n",
       "   Validation Specificity  Training Precision  Validation Precision  \\\n",
       "0                0.976744            0.965079              0.966667   \n",
       "1                0.976744            0.980769              0.966667   \n",
       "\n",
       "   Training Recall  Validation Recall  Training ROC score  \\\n",
       "0         0.993464                1.0            0.981705   \n",
       "1         1.000000                1.0            0.991803   \n",
       "\n",
       "   Validation ROC score  Training F1 score  Validation F1 score  \n",
       "0              0.988372           0.979066             0.983051  \n",
       "1              0.988372           0.990291             0.983051  "
      ]
     },
     "execution_count": 207,
     "metadata": {},
     "output_type": "execute_result"
    }
   ],
   "source": [
    "model_comparison_df"
   ]
  },
  {
   "cell_type": "markdown",
   "id": "6a69fcb1",
   "metadata": {},
   "source": [
    "#### <font color='green'> Random Forest is giving higher accuracy as well as higher precison, hence we decide to go ahead with Random Forest Classifier</font>"
   ]
  },
  {
   "cell_type": "code",
   "execution_count": null,
   "id": "aa42d553",
   "metadata": {},
   "outputs": [],
   "source": []
  },
  {
   "cell_type": "markdown",
   "id": "26751015",
   "metadata": {},
   "source": [
    "# Standard Scaling of test set"
   ]
  },
  {
   "cell_type": "code",
   "execution_count": 208,
   "id": "f6752e5d",
   "metadata": {},
   "outputs": [
    {
     "data": {
      "text/plain": [
       "(412, 5)"
      ]
     },
     "execution_count": 208,
     "metadata": {},
     "output_type": "execute_result"
    }
   ],
   "source": [
    "test_df.shape"
   ]
  },
  {
   "cell_type": "code",
   "execution_count": 209,
   "id": "cab9dadb",
   "metadata": {},
   "outputs": [
    {
     "data": {
      "text/plain": [
       "((412, 4), (412,))"
      ]
     },
     "execution_count": 209,
     "metadata": {},
     "output_type": "execute_result"
    }
   ],
   "source": [
    "y_test = test_df.pop('Class')\n",
    "X_test = test_df\n",
    "X_test.shape, y_test.shape"
   ]
  },
  {
   "cell_type": "code",
   "execution_count": 210,
   "id": "427d07a9",
   "metadata": {},
   "outputs": [
    {
     "data": {
      "text/html": [
       "<div>\n",
       "<style scoped>\n",
       "    .dataframe tbody tr th:only-of-type {\n",
       "        vertical-align: middle;\n",
       "    }\n",
       "\n",
       "    .dataframe tbody tr th {\n",
       "        vertical-align: top;\n",
       "    }\n",
       "\n",
       "    .dataframe thead th {\n",
       "        text-align: right;\n",
       "    }\n",
       "</style>\n",
       "<table border=\"1\" class=\"dataframe\">\n",
       "  <thead>\n",
       "    <tr style=\"text-align: right;\">\n",
       "      <th></th>\n",
       "      <th>Variance_WT_image</th>\n",
       "      <th>Skewness_WT_image</th>\n",
       "      <th>Kurtosis_WT_image</th>\n",
       "      <th>Entropy_image</th>\n",
       "    </tr>\n",
       "  </thead>\n",
       "  <tbody>\n",
       "    <tr>\n",
       "      <th>1343</th>\n",
       "      <td>-0.95923</td>\n",
       "      <td>-6.7128</td>\n",
       "      <td>4.98570</td>\n",
       "      <td>0.32886</td>\n",
       "    </tr>\n",
       "    <tr>\n",
       "      <th>845</th>\n",
       "      <td>-3.88260</td>\n",
       "      <td>4.8980</td>\n",
       "      <td>-0.92311</td>\n",
       "      <td>-5.08010</td>\n",
       "    </tr>\n",
       "  </tbody>\n",
       "</table>\n",
       "</div>"
      ],
      "text/plain": [
       "      Variance_WT_image  Skewness_WT_image  Kurtosis_WT_image  Entropy_image\n",
       "1343           -0.95923            -6.7128            4.98570        0.32886\n",
       "845            -3.88260             4.8980           -0.92311       -5.08010"
      ]
     },
     "execution_count": 210,
     "metadata": {},
     "output_type": "execute_result"
    }
   ],
   "source": [
    "X_test.head(2)"
   ]
  },
  {
   "cell_type": "code",
   "execution_count": 211,
   "id": "0d9e1997",
   "metadata": {},
   "outputs": [
    {
     "data": {
      "text/plain": [
       "1343    unauthentic\n",
       "845     unauthentic\n",
       "Name: Class, dtype: object"
      ]
     },
     "execution_count": 211,
     "metadata": {},
     "output_type": "execute_result"
    }
   ],
   "source": [
    "y_test.head(2)"
   ]
  },
  {
   "cell_type": "code",
   "execution_count": 212,
   "id": "cb214177",
   "metadata": {},
   "outputs": [
    {
     "data": {
      "text/html": [
       "<div>\n",
       "<style scoped>\n",
       "    .dataframe tbody tr th:only-of-type {\n",
       "        vertical-align: middle;\n",
       "    }\n",
       "\n",
       "    .dataframe tbody tr th {\n",
       "        vertical-align: top;\n",
       "    }\n",
       "\n",
       "    .dataframe thead th {\n",
       "        text-align: right;\n",
       "    }\n",
       "</style>\n",
       "<table border=\"1\" class=\"dataframe\">\n",
       "  <thead>\n",
       "    <tr style=\"text-align: right;\">\n",
       "      <th></th>\n",
       "      <th>Variance_WT_image</th>\n",
       "      <th>Skewness_WT_image</th>\n",
       "      <th>Kurtosis_WT_image</th>\n",
       "      <th>Entropy_image</th>\n",
       "    </tr>\n",
       "  </thead>\n",
       "  <tbody>\n",
       "    <tr>\n",
       "      <th>1343</th>\n",
       "      <td>-0.449722</td>\n",
       "      <td>-1.460445</td>\n",
       "      <td>0.794762</td>\n",
       "      <td>0.735768</td>\n",
       "    </tr>\n",
       "    <tr>\n",
       "      <th>845</th>\n",
       "      <td>-1.472067</td>\n",
       "      <td>0.509496</td>\n",
       "      <td>-0.543419</td>\n",
       "      <td>-1.767438</td>\n",
       "    </tr>\n",
       "  </tbody>\n",
       "</table>\n",
       "</div>"
      ],
      "text/plain": [
       "      Variance_WT_image  Skewness_WT_image  Kurtosis_WT_image  Entropy_image\n",
       "1343          -0.449722          -1.460445           0.794762       0.735768\n",
       "845           -1.472067           0.509496          -0.543419      -1.767438"
      ]
     },
     "execution_count": 212,
     "metadata": {},
     "output_type": "execute_result"
    }
   ],
   "source": [
    "X_test_scaled = scaler.transform(X_test)\n",
    "X_test_scaled = pd.DataFrame(X_test_scaled, index=X_test.index ,columns=X_test.columns)\n",
    "X_test_scaled.head(2)"
   ]
  },
  {
   "cell_type": "code",
   "execution_count": 213,
   "id": "437c8f23",
   "metadata": {},
   "outputs": [
    {
     "data": {
      "text/plain": [
       "1343    1\n",
       "845     1\n",
       "Name: Class, dtype: int64"
      ]
     },
     "execution_count": 213,
     "metadata": {},
     "output_type": "execute_result"
    }
   ],
   "source": [
    "y_test = y_test.map({'authentic':0,'unauthentic':1})\n",
    "y_test.head(2)"
   ]
  },
  {
   "cell_type": "markdown",
   "id": "d6cd6c35",
   "metadata": {},
   "source": [
    "# Prediction for Test set"
   ]
  },
  {
   "cell_type": "code",
   "execution_count": 214,
   "id": "2ddced5c",
   "metadata": {},
   "outputs": [
    {
     "data": {
      "text/plain": [
       "array([1, 1, 0, 0, 0])"
      ]
     },
     "execution_count": 214,
     "metadata": {},
     "output_type": "execute_result"
    }
   ],
   "source": [
    "test_pred = rfc_hyper.predict(X_test_scaled)\n",
    "test_pred[:5]"
   ]
  },
  {
   "cell_type": "code",
   "execution_count": 215,
   "id": "96091cd1",
   "metadata": {},
   "outputs": [
    {
     "data": {
      "text/plain": [
       "array([[222,   2],\n",
       "       [  5, 183]])"
      ]
     },
     "execution_count": 215,
     "metadata": {},
     "output_type": "execute_result"
    }
   ],
   "source": [
    "confusion_matrix(y_true=y_test, y_pred=test_pred)"
   ]
  },
  {
   "cell_type": "code",
   "execution_count": 216,
   "id": "d4049aaf",
   "metadata": {},
   "outputs": [],
   "source": [
    "tn,fp,fn,tp = confusion_matrix(y_true=y_test, y_pred=test_pred).ravel()\n",
    "test_sensitivity = tp / (tp+fn)\n",
    "test_specificity = tn / (tn+fp)\n",
    "test_precision = tp / (tp+fp)\n",
    "test_recall = tp / (tp+fn)"
   ]
  },
  {
   "cell_type": "code",
   "execution_count": 217,
   "id": "417abac2",
   "metadata": {},
   "outputs": [
    {
     "data": {
      "text/plain": [
       "0.9822378419452887"
      ]
     },
     "execution_count": 217,
     "metadata": {},
     "output_type": "execute_result"
    }
   ],
   "source": [
    "test_roc = roc_auc_score(y_true=y_test,y_score=test_pred)\n",
    "test_roc"
   ]
  },
  {
   "cell_type": "code",
   "execution_count": 218,
   "id": "48cab6d3",
   "metadata": {},
   "outputs": [
    {
     "data": {
      "text/plain": [
       "0.9812332439678284"
      ]
     },
     "execution_count": 218,
     "metadata": {},
     "output_type": "execute_result"
    }
   ],
   "source": [
    "test_f1 = f1_score(y_true=y_test, y_pred=test_pred)\n",
    "test_f1"
   ]
  },
  {
   "cell_type": "code",
   "execution_count": 219,
   "id": "e604123f",
   "metadata": {},
   "outputs": [
    {
     "data": {
      "text/plain": [
       "0.9830097087378641"
      ]
     },
     "execution_count": 219,
     "metadata": {},
     "output_type": "execute_result"
    }
   ],
   "source": [
    "test_accuracy = accuracy_score(y_true=y_test, y_pred=test_pred)\n",
    "test_accuracy"
   ]
  },
  {
   "cell_type": "markdown",
   "id": "1b5b450c",
   "metadata": {},
   "source": [
    "#### We are getting good accuracy on train and test set and model does not seem to be overfitting"
   ]
  },
  {
   "cell_type": "code",
   "execution_count": null,
   "id": "ba4c7bcf",
   "metadata": {},
   "outputs": [],
   "source": []
  }
 ],
 "metadata": {
  "kernelspec": {
   "display_name": "Python 3",
   "language": "python",
   "name": "python3"
  },
  "language_info": {
   "codemirror_mode": {
    "name": "ipython",
    "version": 3
   },
   "file_extension": ".py",
   "mimetype": "text/x-python",
   "name": "python",
   "nbconvert_exporter": "python",
   "pygments_lexer": "ipython3",
   "version": "3.6.10"
  }
 },
 "nbformat": 4,
 "nbformat_minor": 5
}
